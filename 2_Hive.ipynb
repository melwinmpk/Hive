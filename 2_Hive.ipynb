{
 "cells": [
  {
   "cell_type": "markdown",
   "id": "2fb2a63e",
   "metadata": {},
   "source": [
    "### Show Databases\n",
    "\n",
    "<pre>SHOW DATABASES;</pre>\n",
    "----\n",
    "\n",
    "### Create Database\n",
    "\n",
    "<pre>CREATE DATABASE DATABASE_NAME; </pre>\n",
    "\n",
    "----\n",
    "\n",
    "### Describe Database\n",
    "\n",
    "<pre>DESCRIBE DATABASE DATABASE_NAME;</pre>\n",
    "\n",
    "----\n",
    "\n",
    "### Use\n",
    "\n",
    "<pre>USE DATABASE_NAME;</pre>\n",
    "\n",
    "----\n",
    "\n",
    "### Drop Database (remember the Database must be empty to drop )\n",
    "\n",
    "<pre>DROP DATABASE DATABASE_NAME</pre>\n",
    "\n",
    "----\n",
    "\n",
    "### Current Database (display the current db in the cli)\n",
    "\n",
    "<pre>set hive.cli.print.current.db=true;</pre>\n",
    "\n",
    "### Display the Column Names \n",
    "<pre>set hive.cli.print.header=true;</pre>\n",
    "\n",
    "----\n",
    "\n",
    "### View Tables (shows all the tables in the Database)\n",
    "\n",
    "<pre>SHOW TABLES;</pre>\n",
    "\n",
    "\n"
   ]
  },
  {
   "cell_type": "markdown",
   "id": "184166a6",
   "metadata": {},
   "source": [
    "## Tables in HIVE\n",
    "<ul>\n",
    "    <li>Managed/Internal Table</li>\n",
    "    <li>External Table</li>\n",
    "</ul>\n"
   ]
  },
  {
   "cell_type": "markdown",
   "id": "3e3fad7f",
   "metadata": {},
   "source": [
    "### Managed/Internal table\n",
    "<ul>\n",
    "    <li>Managed table is also called as Internal table. This is the default table in Hive. <br> When\n",
    "we create a table in Hive without specifying it as external, by default we will get a\n",
    "Managed table.</li>\n",
    "    <li>If we create a table as a managed table, the table will be created in a specific location\n",
    "in HDFS.</li>\n",
    "    <li>By default, the table data will be created in /usr/hive/warehouse directory of HDFS.</li>\n",
    "    <li><b>If we delete a Managed table, both the table data and metadata for that table will be\n",
    "deleted from the HDFS.</b></li>\n",
    "</ul>\n",
    "<pre>\n",
    "create table if not exists emp_int    \n",
    "(  \n",
    "id int,  \n",
    "name string,\n",
    "sal int,  \n",
    "city string   \n",
    ")  \n",
    "row format delimited fields terminated by ','  \n",
    "stored as textfile  \n",
    "tblproperties(\"skip.header.line.count\"=\"1\");\n",
    "</pre>\n",
    "\n",
    "----\n",
    "\n",
    "### External Table\n",
    "<ul>\n",
    "    <li>External table is created for external use as when the data is used outside Hive.</li>\n",
    "    <li>Whenever we want to delete the table’s metadata and we want to keep the table’s\n",
    "data as it is, we use External table.</li>\n",
    "    <li><b>External table only deletes the schema of the table.</b></li>\n",
    "</ul>\n",
    "<pre>\n",
    "create external table if not exists emp_int     \n",
    "(   \n",
    "id int,   \n",
    "name string, \n",
    "sal int,   \n",
    "city string    \n",
    ")   \n",
    "row format delimited fields terminated by ','   \n",
    "stored as textfile   \n",
    "tblproperties(\"skip.header.line.count\"=\"1\");\n",
    "</pre>"
   ]
  },
  {
   "cell_type": "markdown",
   "id": "e70ffba6",
   "metadata": {},
   "source": [
    "### Truncate Table\n",
    "<pre>TRUNCATE TABLE TABLE_NAME;</pre>\n",
    "----\n",
    "\n",
    "### Load Data:\n",
    "\n",
    "<pre>LOAD DATA LOCAL INPATH '/home/saif/LFS/datasets/emp_all.txt' INTO TABLE emp_all_temp;</pre>\n",
    "\n",
    "\n",
    "<p><b>Note:</b> <br>To access the data from the Edge Node we are supposed to use <b>LOCAL</b> <br>\n",
    "                To access the data from hdfs dont use <b>LOCAL</b> keyword in the command\n",
    "</p>\n",
    "\n",
    "----\n",
    "\n",
    "### Alter Table\n",
    "Melwin Reffer the Notes"
   ]
  },
  {
   "cell_type": "markdown",
   "id": "bb5546a8",
   "metadata": {},
   "source": [
    "### Functions:\n",
    "Melwin reffer the notes"
   ]
  },
  {
   "cell_type": "markdown",
   "id": "a245d973",
   "metadata": {},
   "source": [
    "## Hive Partitions"
   ]
  },
  {
   "cell_type": "markdown",
   "id": "13011f1b",
   "metadata": {},
   "source": [
    "### What is Partitions?\n",
    "<p>\n",
    "Hive Partitions is a way to organizes tables into partitions by dividing tables into different\n",
    "parts based on partition keys. <br>\n",
    "Table partitioning means dividing table data into some parts based on the values of\n",
    "particular columns like date or country,<br> which segregates the input records into different\n",
    "files/directories based on date or country. \n",
    "</p>\n",
    "<p>\n",
    "    Partitioning can be done based on more than one column which will <b>impose multidimensional structure on directory storage</b>. For e.g. in addition to partitioning records by\n",
    "date column, we can also sub-divide the single day records into country wise separate files\n",
    "by including country column into partitioning.\n",
    "</p>\n",
    "\n",
    "<b>Advantages:</b>\n",
    "<ol>\n",
    "    <li>Partitioning is used for distributing execution load horizontally. </li>\n",
    "    <li>As the data is stored in slices/parts, query response time is faster to process the small\n",
    "parts of data instead of searching in the entire data set.</li>\n",
    "    <li>For e.g. in a larger table where the table is partitioned by country, then selecting users\n",
    "of country ‘IN’ will just scan one directory ‘country=IN’ instead of all directories.</li>\n",
    "</ol>\n",
    "\n",
    "<b>Disadvantages:</b>\n",
    "<ul>\n",
    "    <li>Having too many partitions in table create large number of files/directories in HDFS, <br>\n",
    "which is an overhead to NameNode since it has to keep all Metadata for the file system in\n",
    "memory only. </li>\n",
    "    <li> Partitions may optimized some queries based on Where clause but may be less\n",
    "responsive for other queries based on grouping etc.</li>\n",
    "</ul>\n",
    "\n",
    "<pre>\n",
    "create table if not exists emp_all(\n",
    "id int,\n",
    "name string,\n",
    "sal int\n",
    ")\n",
    "partitioned by (country string)\n",
    "row format delimited fields terminated by ','\n",
    "stored as textfile;\n",
    "</pre>\n",
    "\n",
    "<p><b>NOTE:</b> remember we are <b>not supposed to add the partition column</b> and<br> the tblproperties(\"skip.header.line.count\"=\"1\");\n",
    " in the partition table creation</p>"
   ]
  },
  {
   "cell_type": "markdown",
   "id": "e54fe060",
   "metadata": {},
   "source": [
    "### Inserting Data into Partitioned Tables\n",
    "<ul>\n",
    "    <li>Static Partition</li>\n",
    "    <li>Dynamic Partition</li>\n",
    "</ul>"
   ]
  },
  {
   "cell_type": "markdown",
   "id": "118e0313",
   "metadata": {},
   "source": [
    "### Static Partition\n",
    "<p>Note: <br>we are using the previous tables we have a table <b>emp_all_temp</b> where all the data are there. <br>\n",
    "      we are loading the data from the <b>emp_all_temp</b> to <b>emp_all</b> using the Static Partition</p>\n",
    "<pre>\n",
    "insert overwrite table emp_all partition (country='IN') select id,name,sal from emp_all_temp where country='IN';\n",
    "\n",
    "insert overwrite table emp_all partition (country='US') select id,name,sal from emp_all_temp where country='US';\n",
    "\n",
    "insert overwrite table emp_all partition (country='UK') select id,name,sal from emp_all_temp where country='UK';\n",
    "</pre>"
   ]
  },
  {
   "cell_type": "markdown",
   "id": "03888cbe",
   "metadata": {},
   "source": [
    "### Dynamic Partition\n",
    "\n",
    "<p>For the Dynamic Partition we are supposed to set some of the settings</p>\n",
    "\n",
    "<pre>\n",
    "set hive.exec.dynamic.partition=true;\n",
    "set hive.exec.dynamic.partition.mode=nonstrict;\n",
    "set hive.exec.max.dynamic.partitions=100;\n",
    "set hive.exec.max.dynamic.partitions.pernode=100;\n",
    "\n",
    "create table if not exists emp_all_dynamic(\n",
    "id int,\n",
    "name string,\n",
    "sal int\n",
    ")\n",
    "partitioned by (country string)\n",
    "row format delimited fields terminated by ','\n",
    "stored as textfile;\n",
    "\n",
    "\n",
    "insert overwrite table emp_all_dynamic partition (country) select id,name,sal,country from emp_all_temp;\n",
    "</pre>\n",
    "\n",
    "<p><b>Note:</b>for the dynamic partition in the insert column, we are supposed to add the <b>partition column at the last column of the select query</b></p>"
   ]
  },
  {
   "cell_type": "markdown",
   "id": "18f368a5",
   "metadata": {},
   "source": [
    "### TO SHOW PARTITION ON A TABLE\n",
    "<pre>\n",
    "SHOW PARTITIONS Partition_Table_Name;\n",
    "</pre>"
   ]
  },
  {
   "cell_type": "markdown",
   "id": "03747376",
   "metadata": {},
   "source": [
    "### TO Drop Partitions\n",
    "\n",
    "<pre>ALTER TABLE Partition_Table_Name DROP IS EXISTS PARTITION (Column_Name);</pre>"
   ]
  },
  {
   "cell_type": "markdown",
   "id": "9a4469ee",
   "metadata": {},
   "source": [
    "## Hive Buckets"
   ]
  },
  {
   "cell_type": "markdown",
   "id": "35a06b2f",
   "metadata": {},
   "source": [
    "<p>Hive partition divides table into number of partitions and these partitions can be further\n",
    "subdivided into more manageable parts known as Buckets or Clusters. The Bucketing\n",
    "concept is based on <b>Hash function</b>, which depends on the type of the bucketing column.\n",
    "Records which are bucketed by the same column will always be saved in the same bucket. </p>"
   ]
  },
  {
   "cell_type": "markdown",
   "id": "a6f72136",
   "metadata": {},
   "source": [
    "<pre>\n",
    "    set hive.exec.dynamic.partition=true;\n",
    "    set hive.exec.dynamic.partition.mode=nonstrict;\n",
    "    set hive.exec.max.dynamic.partitions=100;\n",
    "    set hive.exec.max.dynamic.partitions.pernode=100;\n",
    "    set hive.enforce.bucketing = true\n",
    "</pre>\n",
    "<pre>\n",
    "    CREATE TABLE REAL_ESTATE_BUCKET\n",
    "    (\n",
    "        street string,\n",
    "        zip int,\n",
    "        state string,\n",
    "        beds int,\n",
    "        baths int,\n",
    "        sq_ft int,\n",
    "        type string,\n",
    "        price int\n",
    "    )\n",
    "    partitioned by (city string)\n",
    "    clustered by (street) into 4 buckets\n",
    "    row format delimited fields terminated by ','\n",
    "    lines terminated by '\\n'\n",
    "    stored as textfile\n",
    "    tblproperties(\"skip.header.line.count\"=\"1\");\n",
    "</pre>"
   ]
  },
  {
   "cell_type": "code",
   "execution_count": null,
   "id": "1dc06866",
   "metadata": {},
   "outputs": [],
   "source": []
  },
  {
   "cell_type": "markdown",
   "id": "22fc6de0",
   "metadata": {},
   "source": [
    "### Advantages of Bucketing\n",
    "<ul>\n",
    "    <li>It provides faster query response like partioning.</li>\n",
    "    <li> In bucketing due to equal volumes of data in each partition, joins at Map side will be\n",
    "quicker.</li>\n",
    "</ul>"
   ]
  },
  {
   "cell_type": "code",
   "execution_count": null,
   "id": "a0f2bb75",
   "metadata": {},
   "outputs": [],
   "source": []
  }
 ],
 "metadata": {
  "kernelspec": {
   "display_name": "Python 3 (ipykernel)",
   "language": "python",
   "name": "python3"
  },
  "language_info": {
   "codemirror_mode": {
    "name": "ipython",
    "version": 3
   },
   "file_extension": ".py",
   "mimetype": "text/x-python",
   "name": "python",
   "nbconvert_exporter": "python",
   "pygments_lexer": "ipython3",
   "version": "3.9.7"
  }
 },
 "nbformat": 4,
 "nbformat_minor": 5
}
