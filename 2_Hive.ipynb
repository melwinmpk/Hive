{
 "cells": [
  {
   "cell_type": "markdown",
   "id": "184166a6",
   "metadata": {},
   "source": [
    "## Tables in HIVE\n",
    "<ul>\n",
    "    <li>Managed/Internal Table</li>\n",
    "    <li>External Table</li>\n",
    "</ul>\n"
   ]
  },
  {
   "cell_type": "markdown",
   "id": "3e3fad7f",
   "metadata": {},
   "source": [
    "### Managed/Internal table\n",
    "<ul>\n",
    "    <li>Managed table is also called as Internal table. This is the default table in Hive. <br> When\n",
    "we create a table in Hive without specifying it as external, by default we will get a\n",
    "Managed table.</li>\n",
    "    <li>If we create a table as a managed table, the table will be created in a specific location\n",
    "in HDFS.</li>\n",
    "    <li>By default, the table data will be created in /usr/hive/warehouse directory of HDFS.</li>\n",
    "    <li><b>If we delete a Managed table, both the table data and metadata for that table will be\n",
    "deleted from the HDFS.</b></li>\n",
    "</ul>\n",
    "\n",
    "### External Table\n",
    "<ul>\n",
    "    <li>External table is created for external use as when the data is used outside Hive.</li>\n",
    "    <li>Whenever we want to delete the table’s metadata and we want to keep the table’s\n",
    "data as it is, we use External table.</li>\n",
    "    <li><b>External table only deletes the schema of the table.</b></li>\n",
    "</ul>"
   ]
  },
  {
   "cell_type": "markdown",
   "id": "bb5546a8",
   "metadata": {},
   "source": [
    "### Functions:\n",
    "Melwin reffer the notes"
   ]
  },
  {
   "cell_type": "markdown",
   "id": "a245d973",
   "metadata": {},
   "source": [
    "## Hive Partitions"
   ]
  },
  {
   "cell_type": "markdown",
   "id": "13011f1b",
   "metadata": {},
   "source": [
    "### What is Partitions?\n",
    "<p>\n",
    "Hive Partitions is a way to organizes tables into partitions by dividing tables into different\n",
    "parts based on partition keys. <br>\n",
    "Table partitioning means dividing table data into some parts based on the values of\n",
    "particular columns like date or country,<br> which segregates the input records into different\n",
    "files/directories based on date or country. \n",
    "</p>\n",
    "<p>\n",
    "    Partitioning can be done based on more than one column which will <b>impose multidimensional structure on directory storage</b>. For e.g. in addition to partitioning records by\n",
    "date column, we can also sub-divide the single day records into country wise separate files\n",
    "by including country column into partitioning.\n",
    "</p>\n",
    "\n",
    "<b>Advantages:</b>\n",
    "<ol>\n",
    "    <li>Partitioning is used for distributing execution load horizontally. </li>\n",
    "    <li>As the data is stored in slices/parts, query response time is faster to process the small\n",
    "parts of data instead of searching in the entire data set.</li>\n",
    "    <li>For e.g. in a larger table where the table is partitioned by country, then selecting users\n",
    "of country ‘IN’ will just scan one directory ‘country=IN’ instead of all directories.</li>\n",
    "</ol>"
   ]
  },
  {
   "cell_type": "code",
   "execution_count": null,
   "id": "0f9460fd",
   "metadata": {},
   "outputs": [],
   "source": []
  }
 ],
 "metadata": {
  "kernelspec": {
   "display_name": "Python 3 (ipykernel)",
   "language": "python",
   "name": "python3"
  },
  "language_info": {
   "codemirror_mode": {
    "name": "ipython",
    "version": 3
   },
   "file_extension": ".py",
   "mimetype": "text/x-python",
   "name": "python",
   "nbconvert_exporter": "python",
   "pygments_lexer": "ipython3",
   "version": "3.9.7"
  }
 },
 "nbformat": 4,
 "nbformat_minor": 5
}
