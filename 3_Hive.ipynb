{
 "cells": [
  {
   "cell_type": "markdown",
   "id": "0046c2ac",
   "metadata": {},
   "source": [
    "## Type of Joins in Hive\n",
    "<ul>\n",
    "    <li>Inner join in Hive</li>\n",
    "    <li>Left Outer Join in Hive</li>\n",
    "    <li>Right Outer Join in Hive</li>\n",
    "    <li>Full Outer Join in Hive</li>\n",
    "</ul>\n",
    "\n",
    "Melwin its similar to the MYSQL JOINS"
   ]
  },
  {
   "cell_type": "markdown",
   "id": "4412564e",
   "metadata": {},
   "source": [
    "### Map Side Joins\n",
    "<ul>\n",
    "    <li>Map side join is a process where joins between two tables are performed in the Map\n",
    "phase without the involvement of Reduce phase</li>\n",
    "    <li>Map-side Joins allows a table to get loaded into memory ensuring a very fast join\n",
    "operation, performed entirely within a mapper and that too without having to use\n",
    "both map and reduce phases.</li>\n",
    "</ul>\n",
    "\n",
    "<p>Map side join is usually <b>used when one data set is large and the other data set is small.</b></p>"
   ]
  },
  {
   "cell_type": "markdown",
   "id": "c8176272",
   "metadata": {},
   "source": [
    "<pre>\n",
    "    hive.auto.convert.join = true \n",
    "</pre>\n",
    "<pre>\n",
    "    CREATE TABLE IF NOT EXISTS dataset1 \n",
    "    ( \n",
    "    id int, \n",
    "    first_name String, \n",
    "    last_name String, \n",
    "    email String, \n",
    "    gender String, \n",
    "    ip_address String\n",
    "    ) \n",
    "    row format delimited fields terminated BY ','\n",
    "    tblproperties(\"skip.header.line.count\"=\"1\"); \n",
    "    \n",
    "    CREATE TABLE IF NOT EXISTS dataset2 \n",
    "    ( \n",
    "    id int, \n",
    "    first_name String, \n",
    "    last_name String\n",
    "    ) \n",
    "    row format delimited fields terminated BY ',' \n",
    "    tblproperties(\"skip.header.line.count\"=\"1\"); \n",
    "    \n",
    "    load data local inpath '/home/saif/LFS/dataset1.csv' into table dataset1; \n",
    "    load data local inpath '/home/saif/LFS/dataset2.csv' into table dataset2;\n",
    "    \n",
    "    SELECT /*+ MAPJOIN(dataset2) */ dataset1.first_name, dataset1.id, dataset2.id FROM\n",
    "    dataset1 JOIN dataset2 ON dataset1.first_name = dataset2.first_name; \n",
    "</pre>"
   ]
  },
  {
   "cell_type": "markdown",
   "id": "4ca3fab7",
   "metadata": {},
   "source": [
    "### Bucket-Map Join\n"
   ]
  },
  {
   "cell_type": "markdown",
   "id": "a5c169bb",
   "metadata": {},
   "source": [
    "Bucket map join is used when the joining tables are large and are <b>bucketed on the join column</b>."
   ]
  },
  {
   "cell_type": "markdown",
   "id": "9c065106",
   "metadata": {},
   "source": [
    "<pre>\n",
    "set hive.optimize.bucketmapjoin = true \n",
    "<pre>"
   ]
  },
  {
   "cell_type": "markdown",
   "id": "94a81dbf",
   "metadata": {},
   "source": [
    "<pre>\n",
    "CREATE TABLE IF NOT EXISTS dataset1_bucketed \n",
    "( \n",
    "id int,\n",
    "first_name String, \n",
    "last_name String, \n",
    "email String, \n",
    "gender String, \n",
    "ip_address String) \n",
    "clustered by (first_name) into 4 buckets \n",
    "row format delimited fields terminated BY ',';\n",
    "\n",
    "CREATE TABLE IF NOT EXISTS dataset2_bucketed \n",
    "(\n",
    "id int,\n",
    "first_name String, \n",
    "last_name String) \n",
    "clustered by(first_name) into 8 buckets \n",
    "row format delimited fields terminated BY ',' ;\n",
    "\n",
    "insert into dataset1_bucketed select * from dataset1;\n",
    "insert into dataset2_bucketed select * from dataset2;\n",
    "\n",
    "SELECT /*+ MAPJOIN(dataset2_bucketed) */ dataset1_bucketed.first_name, dataset1_bucketed.id, dataset2_bucketed.id FROM dataset1_bucketed JOIN dataset2_bucketed ON dataset1_bucketed.first_name = dataset2_bucketed.first_name;\n",
    "</pre>\n"
   ]
  },
  {
   "cell_type": "markdown",
   "id": "88075b71",
   "metadata": {},
   "source": [
    "### Sort Merge Bucket(SMB) Map Join"
   ]
  },
  {
   "cell_type": "markdown",
   "id": "5bf462d9",
   "metadata": {},
   "source": [
    "<p><b>Sort Merge Bucket (SMB)</b> join in hive is mainly used as there is no limit on file or partition or table join. <br> \n",
    "   SMB join can best be used when the tables are large. <br>\n",
    "   In SMB join the columns are bucketed and sorted using the join columns. All tables should have the same number of buckets in SMB join.</p>"
   ]
  },
  {
   "cell_type": "markdown",
   "id": "ed92d574",
   "metadata": {},
   "source": [
    "<pre>\n",
    "set hive.input.format=org.apache.hadoop.hive.ql.io.BucketizedHiveInputFormat;\n",
    "set hive.optimize.bucketmapjoin = true;\n",
    "set hive.optimize.bucketmapjoin.sortedmerge = true; \n",
    "</pre>"
   ]
  },
  {
   "cell_type": "markdown",
   "id": "bf70ab62",
   "metadata": {},
   "source": [
    "<pre>\n",
    "CREATE TABLE IF NOT EXISTS dataset2_bucketed1 (\n",
    "id int,\n",
    "first_name String, \n",
    "last_name String) \n",
    "clustered by(first_name) into 4 buckets \n",
    "row format delimited fields terminated BY ',' ;\n",
    "\n",
    "\n",
    "insert overwrite table dataset2_bucketed1 select * from dataset2 sort by first_name;\n",
    "\n",
    "\n",
    "SELECT /*+ MAPJOIN(dataset2_bucketed1) */dataset1_bucketed.first_name, dataset1_bucketed.id, dataset2_bucketed1.id FROM dataset1_bucketed JOIN dataset2_bucketed1 ON dataset1_bucketed.first_name = dataset2_bucketed1.first_name ;\n",
    "\n",
    "</pre>"
   ]
  },
  {
   "cell_type": "code",
   "execution_count": null,
   "id": "566fdea6",
   "metadata": {},
   "outputs": [],
   "source": []
  }
 ],
 "metadata": {
  "kernelspec": {
   "display_name": "Python 3 (ipykernel)",
   "language": "python",
   "name": "python3"
  },
  "language_info": {
   "codemirror_mode": {
    "name": "ipython",
    "version": 3
   },
   "file_extension": ".py",
   "mimetype": "text/x-python",
   "name": "python",
   "nbconvert_exporter": "python",
   "pygments_lexer": "ipython3",
   "version": "3.9.7"
  }
 },
 "nbformat": 4,
 "nbformat_minor": 5
}
