{
 "cells": [
  {
   "cell_type": "markdown",
   "id": "e9643317",
   "metadata": {},
   "source": [
    "### What is Serde ?\n",
    "<p>SerDe is short for <b>Serializer/Deserializer</b>. Hive uses the SerDe interface for IO. The interface handles both serialization and deserialization and also interpreting the results of serialization as individual fields for processing.</p>\n",
    "<p>A SerDe allows Hive to read in data from a table, and write it back out to HDFS in any custom format. Anyone can write their own SerDe for their own data formats.\n",
    "</p>"
   ]
  },
  {
   "cell_type": "markdown",
   "id": "56a17099",
   "metadata": {},
   "source": [
    "### What is the default delimiter in the hive tables ?\n",
    "<p>^</p>"
   ]
  },
  {
   "cell_type": "markdown",
   "id": "1055c8fe",
   "metadata": {},
   "source": [
    "### Command to convert the Manged table to External Table\n",
    "<pre>\n",
    "ALTER TABLE <table> SET TBLPROPERTIES('EXTERNAL'='TRUE');\n",
    "</pre>"
   ]
  },
  {
   "cell_type": "markdown",
   "id": "6c646e5d",
   "metadata": {},
   "source": [
    "### What is the use of external table in Hive ?\n",
    "<p>An external table is a table for which Hive does not manage storage.<br>If the user drops the External tables then only the metadata of tables will be removed and the data will be safe.</p>"
   ]
  },
  {
   "cell_type": "code",
   "execution_count": null,
   "id": "213515f0",
   "metadata": {},
   "outputs": [],
   "source": []
  }
 ],
 "metadata": {
  "kernelspec": {
   "display_name": "Python 3 (ipykernel)",
   "language": "python",
   "name": "python3"
  },
  "language_info": {
   "codemirror_mode": {
    "name": "ipython",
    "version": 3
   },
   "file_extension": ".py",
   "mimetype": "text/x-python",
   "name": "python",
   "nbconvert_exporter": "python",
   "pygments_lexer": "ipython3",
   "version": "3.9.7"
  }
 },
 "nbformat": 4,
 "nbformat_minor": 5
}
