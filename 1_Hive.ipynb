{
 "cells": [
  {
   "cell_type": "markdown",
   "id": "91dd08b9",
   "metadata": {},
   "source": [
    "## What is Hive\n",
    "<ul>\n",
    "    <li>Hive is a data warehouse system for data summarization, analysis and for querying\n",
    "of large data. </li>\n",
    "    <li>It converts SQL-like queries into MapReduce jobs for easy execution and processing\n",
    "of extremely large volumes of data.</li>\n",
    "    <li>Hive can process structured and semi-structured data by using a SQL-like language\n",
    "called HQL (Hive Query Language). </li>\n",
    "</ul>"
   ]
  },
  {
   "cell_type": "markdown",
   "id": "4080a6e6",
   "metadata": {},
   "source": [
    "### Remember !!!\n",
    "<ul>\n",
    "<li>It is not a relational database</li>\n",
    "<li>It is not a design for Online Transaction Processing (OLTP).</li>\n",
    "<li>It is not a language for real-time queries and row-level updates</li>\n",
    "</ul>"
   ]
  },
  {
   "cell_type": "markdown",
   "id": "e40f4f74",
   "metadata": {},
   "source": [
    "### Hive Architecture\n",
    "\n",
    "\n",
    "<img src='https://miro.medium.com/max/1400/1*-ECFiUSfzHqfa5EH8Di7UA.png'></img>\n",
    "\n",
    "<a href='https://medium.com/swlh/understanding-hadoop-hive-64c6506e35ca'>Medium Link</a> <br>\n",
    "<a href=\"https://medium.com/plumbersofdatascience/hive-architecture-in-depth-ba44e8946cbc\">Medium Link</a>"
   ]
  },
  {
   "cell_type": "markdown",
   "id": "4b533aec",
   "metadata": {},
   "source": [
    "#### The 4 main components as part of Hive Architecture\n",
    "<ul>\n",
    "    <li>Hadoop core components (Hdfs, MapReduce)</li>\n",
    "    <li>Metastore</li>\n",
    "    <li>Driver</li>\n",
    "    <li>Hive Clients</li>\n",
    "</ul>"
   ]
  },
  {
   "cell_type": "markdown",
   "id": "0db9b0e5",
   "metadata": {},
   "source": [
    "<b>HDFS</b>\n",
    "<p>When we load the data into a Hive Table it internally stores the data in HDFS\n",
    "path i.e. by default in hive warehouse directory. The hive default warehouse location can\n",
    "be found at</p>\n",
    "\n",
    "<b>MapReduce</b>\n",
    "<p>the given HQL Query converted or compiling the query into a java class file, building a jar and execute this jar\n",
    "file</p>\n",
    "\n",
    "<b>Metastore</b>\n",
    "<p> It is a namespace for tables. This is a crucial part of hive as all the metadata\n",
    "information related to the hive such as detail of tables, columns, partitions and locations is\n",
    "present here. Usually, the Metastore is available as part of the Relational databases e.g.\n",
    "MySQL</p>\n",
    "\n",
    "<b>Driver</b>\n",
    "<p>The component that parses the query, does semantic analysis on the different\n",
    "query blocks and query expressions eventually generates an execution plan with the help\n",
    "of the table and partition metadata looked up from the metastore. The execution plan\n",
    "created by the compiler is a DAG of stages. </p>\n",
    "\n",
    "<b>Hive Clients</b>\n",
    "<p>It is the interface through which we can submit the hive queries. E.g. hive\n",
    "CLI, beeline are some of the terminal interfaces. We can also use the Web-interface like\n",
    "Hue, Ambari to perform the same.</p>\n"
   ]
  },
  {
   "cell_type": "markdown",
   "id": "04bf93a9",
   "metadata": {},
   "source": [
    "### Hive Metastore Modes\n",
    "<ul>\n",
    "    <li>Embedded Metastore</li>\n",
    "    <li>Local Metastore</li>\n",
    "    <li>Remote Metastore</li>\n",
    "</ul>\n",
    "<a href='https://data-flair.training/blogs/apache-hive-metastore/'>Link</a>"
   ]
  },
  {
   "cell_type": "markdown",
   "id": "26cc4018",
   "metadata": {},
   "source": [
    "### Data Types\n",
    "<img src='http://thumbnails-visually.netdna-ssl.com/hive-data-type-with-examples_5a8d89c0e021f.jpg' width=\"700\" height=\"500\"></img>"
   ]
  },
  {
   "cell_type": "markdown",
   "id": "9a364f43",
   "metadata": {},
   "source": [
    "<img src='https://miro.medium.com/max/1204/1*Egi1pJCdCdEtTKfhbua70Q.png'></img>\n",
    "<img src='https://miro.medium.com/max/1294/1*oL1cDLiE9IQnBXi4CoobWA.png'></img>"
   ]
  },
  {
   "cell_type": "code",
   "execution_count": null,
   "id": "d53bbf0a",
   "metadata": {},
   "outputs": [],
   "source": []
  }
 ],
 "metadata": {
  "kernelspec": {
   "display_name": "Python 3 (ipykernel)",
   "language": "python",
   "name": "python3"
  },
  "language_info": {
   "codemirror_mode": {
    "name": "ipython",
    "version": 3
   },
   "file_extension": ".py",
   "mimetype": "text/x-python",
   "name": "python",
   "nbconvert_exporter": "python",
   "pygments_lexer": "ipython3",
   "version": "3.9.7"
  }
 },
 "nbformat": 4,
 "nbformat_minor": 5
}
